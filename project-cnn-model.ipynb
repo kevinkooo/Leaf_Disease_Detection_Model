{
 "cells": [
  {
   "cell_type": "code",
   "execution_count": 1,
   "metadata": {
    "tags": []
   },
   "outputs": [],
   "source": [
    "train_files_healthy = \"/kaggle/input/plant-disease-recognition-dataset/Train/Train/Healthy\"\n",
    "train_files_powdery = \"/kaggle/input/plant-disease-recognition-dataset/Train/Train/Powdery\"\n",
    "train_files_rust = \"/kaggle/input/plant-disease-recognition-dataset/Train/Train/Rust\"\n",
    "\n",
    "test_files_healthy = \"/kaggle/input/plant-disease-recognition-dataset/Test/Test/Healthy\"\n",
    "test_files_powdery = \"/kaggle/input/plant-disease-recognition-dataset/Test/Test/Powdery\"\n",
    "test_files_rust = \"/kaggle/input/plant-disease-recognition-dataset/Test/Test/Rust\"\n",
    "\n",
    "valid_files_healthy = \"/kaggle/input/plant-disease-recognition-dataset/Validation/Validation/Healthy\"\n",
    "valid_files_powdery = \"/kaggle/input/plant-disease-recognition-dataset/Validation/Validation/Powdery\"\n",
    "valid_files_rust = \"/kaggle/input/plant-disease-recognition-dataset/Validation/Validation/Rust\""
   ]
  },
  {
   "cell_type": "code",
   "execution_count": 2,
   "metadata": {
    "tags": []
   },
   "outputs": [],
   "source": [
    "import numpy as np \n",
    "import pandas as pd \n",
    "\n",
    "import os\n",
    "#for dirname, _, filenames in os.walk('/kaggle/input'):\n",
    "  #  for filename in filenames:\n",
    "      #  print(os.path.join(dirname, filename))"
   ]
  },
  {
   "cell_type": "code",
   "execution_count": 3,
   "metadata": {
    "tags": []
   },
   "outputs": [],
   "source": [
    "from tensorflow.keras.preprocessing.image import ImageDataGenerator\n",
    "\n",
    "train_normalize = ImageDataGenerator(rescale=1./255,shear_range=0.2,zoom_range=0.2,horizontal_flip=True)\n",
    "test_normalize = ImageDataGenerator(rescale=1./255)\n",
    "val_normalize = ImageDataGenerator(rescale=1./255)"
   ]
  },
  {
   "cell_type": "code",
   "execution_count": 4,
   "metadata": {
    "tags": []
   },
   "outputs": [
    {
     "ename": "FileNotFoundError",
     "evalue": "[Errno 2] No such file or directory: '/kaggle/input/plant-disease-recognition-dataset/Train/Train'",
     "output_type": "error",
     "traceback": [
      "\u001b[0;31m---------------------------------------------------------------------------\u001b[0m",
      "\u001b[0;31mFileNotFoundError\u001b[0m                         Traceback (most recent call last)",
      "Cell \u001b[0;32mIn[4], line 1\u001b[0m\n\u001b[0;32m----> 1\u001b[0m train_set \u001b[38;5;241m=\u001b[39m train_normalize\u001b[38;5;241m.\u001b[39mflow_from_directory(directory\u001b[38;5;241m=\u001b[39m\u001b[38;5;124m\"\u001b[39m\u001b[38;5;124m/kaggle/input/plant-disease-recognition-dataset/Train/Train\u001b[39m\u001b[38;5;124m\"\u001b[39m,target_size\u001b[38;5;241m=\u001b[39m(\u001b[38;5;241m225\u001b[39m,\u001b[38;5;241m225\u001b[39m),class_mode\u001b[38;5;241m=\u001b[39m\u001b[38;5;124m'\u001b[39m\u001b[38;5;124mcategorical\u001b[39m\u001b[38;5;124m'\u001b[39m)\n\u001b[1;32m      2\u001b[0m val_set \u001b[38;5;241m=\u001b[39m val_normalize\u001b[38;5;241m.\u001b[39mflow_from_directory(directory\u001b[38;5;241m=\u001b[39m\u001b[38;5;124m\"\u001b[39m\u001b[38;5;124m/kaggle/input/plant-disease-recognition-dataset/Validation/Validation\u001b[39m\u001b[38;5;124m\"\u001b[39m,target_size\u001b[38;5;241m=\u001b[39m(\u001b[38;5;241m225\u001b[39m,\u001b[38;5;241m225\u001b[39m),class_mode\u001b[38;5;241m=\u001b[39m\u001b[38;5;124m\"\u001b[39m\u001b[38;5;124mcategorical\u001b[39m\u001b[38;5;124m\"\u001b[39m)\n\u001b[1;32m      3\u001b[0m test_set \u001b[38;5;241m=\u001b[39m test_normalize\u001b[38;5;241m.\u001b[39mflow_from_directory(directory\u001b[38;5;241m=\u001b[39m\u001b[38;5;124m\"\u001b[39m\u001b[38;5;124m/kaggle/input/plant-disease-recognition-dataset/Test/Test\u001b[39m\u001b[38;5;124m\"\u001b[39m,target_size\u001b[38;5;241m=\u001b[39m(\u001b[38;5;241m225\u001b[39m,\u001b[38;5;241m225\u001b[39m),class_mode\u001b[38;5;241m=\u001b[39m\u001b[38;5;124m\"\u001b[39m\u001b[38;5;124mcategorical\u001b[39m\u001b[38;5;124m\"\u001b[39m)\n",
      "File \u001b[0;32m~/anaconda3/lib/python3.11/site-packages/keras/src/legacy/preprocessing/image.py:1138\u001b[0m, in \u001b[0;36mImageDataGenerator.flow_from_directory\u001b[0;34m(self, directory, target_size, color_mode, classes, class_mode, batch_size, shuffle, seed, save_to_dir, save_prefix, save_format, follow_links, subset, interpolation, keep_aspect_ratio)\u001b[0m\n\u001b[1;32m   1120\u001b[0m \u001b[38;5;28;01mdef\u001b[39;00m \u001b[38;5;21mflow_from_directory\u001b[39m(\n\u001b[1;32m   1121\u001b[0m     \u001b[38;5;28mself\u001b[39m,\n\u001b[1;32m   1122\u001b[0m     directory,\n\u001b[0;32m   (...)\u001b[0m\n\u001b[1;32m   1136\u001b[0m     keep_aspect_ratio\u001b[38;5;241m=\u001b[39m\u001b[38;5;28;01mFalse\u001b[39;00m,\n\u001b[1;32m   1137\u001b[0m ):\n\u001b[0;32m-> 1138\u001b[0m     \u001b[38;5;28;01mreturn\u001b[39;00m DirectoryIterator(\n\u001b[1;32m   1139\u001b[0m         directory,\n\u001b[1;32m   1140\u001b[0m         \u001b[38;5;28mself\u001b[39m,\n\u001b[1;32m   1141\u001b[0m         target_size\u001b[38;5;241m=\u001b[39mtarget_size,\n\u001b[1;32m   1142\u001b[0m         color_mode\u001b[38;5;241m=\u001b[39mcolor_mode,\n\u001b[1;32m   1143\u001b[0m         keep_aspect_ratio\u001b[38;5;241m=\u001b[39mkeep_aspect_ratio,\n\u001b[1;32m   1144\u001b[0m         classes\u001b[38;5;241m=\u001b[39mclasses,\n\u001b[1;32m   1145\u001b[0m         class_mode\u001b[38;5;241m=\u001b[39mclass_mode,\n\u001b[1;32m   1146\u001b[0m         data_format\u001b[38;5;241m=\u001b[39m\u001b[38;5;28mself\u001b[39m\u001b[38;5;241m.\u001b[39mdata_format,\n\u001b[1;32m   1147\u001b[0m         batch_size\u001b[38;5;241m=\u001b[39mbatch_size,\n\u001b[1;32m   1148\u001b[0m         shuffle\u001b[38;5;241m=\u001b[39mshuffle,\n\u001b[1;32m   1149\u001b[0m         seed\u001b[38;5;241m=\u001b[39mseed,\n\u001b[1;32m   1150\u001b[0m         save_to_dir\u001b[38;5;241m=\u001b[39msave_to_dir,\n\u001b[1;32m   1151\u001b[0m         save_prefix\u001b[38;5;241m=\u001b[39msave_prefix,\n\u001b[1;32m   1152\u001b[0m         save_format\u001b[38;5;241m=\u001b[39msave_format,\n\u001b[1;32m   1153\u001b[0m         follow_links\u001b[38;5;241m=\u001b[39mfollow_links,\n\u001b[1;32m   1154\u001b[0m         subset\u001b[38;5;241m=\u001b[39msubset,\n\u001b[1;32m   1155\u001b[0m         interpolation\u001b[38;5;241m=\u001b[39minterpolation,\n\u001b[1;32m   1156\u001b[0m         dtype\u001b[38;5;241m=\u001b[39m\u001b[38;5;28mself\u001b[39m\u001b[38;5;241m.\u001b[39mdtype,\n\u001b[1;32m   1157\u001b[0m     )\n",
      "File \u001b[0;32m~/anaconda3/lib/python3.11/site-packages/keras/src/legacy/preprocessing/image.py:453\u001b[0m, in \u001b[0;36mDirectoryIterator.__init__\u001b[0;34m(self, directory, image_data_generator, target_size, color_mode, classes, class_mode, batch_size, shuffle, seed, data_format, save_to_dir, save_prefix, save_format, follow_links, subset, interpolation, keep_aspect_ratio, dtype)\u001b[0m\n\u001b[1;32m    451\u001b[0m \u001b[38;5;28;01mif\u001b[39;00m \u001b[38;5;129;01mnot\u001b[39;00m classes:\n\u001b[1;32m    452\u001b[0m     classes \u001b[38;5;241m=\u001b[39m []\n\u001b[0;32m--> 453\u001b[0m     \u001b[38;5;28;01mfor\u001b[39;00m subdir \u001b[38;5;129;01min\u001b[39;00m \u001b[38;5;28msorted\u001b[39m(os\u001b[38;5;241m.\u001b[39mlistdir(directory)):\n\u001b[1;32m    454\u001b[0m         \u001b[38;5;28;01mif\u001b[39;00m os\u001b[38;5;241m.\u001b[39mpath\u001b[38;5;241m.\u001b[39misdir(os\u001b[38;5;241m.\u001b[39mpath\u001b[38;5;241m.\u001b[39mjoin(directory, subdir)):\n\u001b[1;32m    455\u001b[0m             classes\u001b[38;5;241m.\u001b[39mappend(subdir)\n",
      "\u001b[0;31mFileNotFoundError\u001b[0m: [Errno 2] No such file or directory: '/kaggle/input/plant-disease-recognition-dataset/Train/Train'"
     ]
    }
   ],
   "source": [
    "train_set = train_normalize.flow_from_directory(directory=\"/kaggle/input/plant-disease-recognition-dataset/Train/Train\",target_size=(225,225),class_mode='categorical')\n",
    "val_set = val_normalize.flow_from_directory(directory=\"/kaggle/input/plant-disease-recognition-dataset/Validation/Validation\",target_size=(225,225),class_mode=\"categorical\")\n",
    "test_set = test_normalize.flow_from_directory(directory=\"/kaggle/input/plant-disease-recognition-dataset/Test/Test\",target_size=(225,225),class_mode=\"categorical\")"
   ]
  },
  {
   "cell_type": "code",
   "execution_count": null,
   "metadata": {
    "execution": {
     "iopub.execute_input": "2024-05-19T20:57:56.951601Z",
     "iopub.status.busy": "2024-05-19T20:57:56.951178Z",
     "iopub.status.idle": "2024-05-19T20:57:57.064098Z",
     "shell.execute_reply": "2024-05-19T20:57:57.062524Z",
     "shell.execute_reply.started": "2024-05-19T20:57:56.951570Z"
    }
   },
   "outputs": [],
   "source": [
    "from PIL import Image\n",
    "import IPython.display as display\n",
    "\n",
    "image_path = '/kaggle/input/plant-disease-recognition-dataset/Train/Train/Healthy/8ce77048e12f3dd4.jpg'\n",
    "\n",
    "with open(image_path, 'rb') as f:\n",
    "    display.display(display.Image(data=f.read(), width=500))"
   ]
  },
  {
   "cell_type": "code",
   "execution_count": null,
   "metadata": {
    "execution": {
     "iopub.execute_input": "2024-05-19T20:58:13.227095Z",
     "iopub.status.busy": "2024-05-19T20:58:13.226625Z",
     "iopub.status.idle": "2024-05-19T20:58:13.266187Z",
     "shell.execute_reply": "2024-05-19T20:58:13.264849Z",
     "shell.execute_reply.started": "2024-05-19T20:58:13.227061Z"
    }
   },
   "outputs": [],
   "source": [
    "image_path = '/kaggle/input/plant-disease-recognition-dataset/Train/Train/Rust/80f09587dfc7988e.jpg'\n",
    "\n",
    "with open(image_path, 'rb') as f:\n",
    "    display.display(display.Image(data=f.read(), width=500))"
   ]
  },
  {
   "cell_type": "code",
   "execution_count": null,
   "metadata": {
    "execution": {
     "iopub.execute_input": "2024-05-19T20:59:10.119504Z",
     "iopub.status.busy": "2024-05-19T20:59:10.119078Z",
     "iopub.status.idle": "2024-05-19T20:59:10.184933Z",
     "shell.execute_reply": "2024-05-19T20:59:10.183678Z",
     "shell.execute_reply.started": "2024-05-19T20:59:10.119475Z"
    }
   },
   "outputs": [],
   "source": [
    "image_path = '/kaggle/input/plant-disease-recognition-dataset/Train/Train/Powdery/839b78511eb468be.jpg'\n",
    "\n",
    "with open(image_path, 'rb') as f:\n",
    "    display.display(display.Image(data=f.read(), width=500))"
   ]
  },
  {
   "cell_type": "code",
   "execution_count": null,
   "metadata": {
    "execution": {
     "iopub.execute_input": "2024-05-19T21:30:14.772028Z",
     "iopub.status.busy": "2024-05-19T21:30:14.771407Z",
     "iopub.status.idle": "2024-05-19T21:30:14.781403Z",
     "shell.execute_reply": "2024-05-19T21:30:14.780366Z",
     "shell.execute_reply.started": "2024-05-19T21:30:14.771996Z"
    }
   },
   "outputs": [],
   "source": [
    "from tensorflow.keras import Sequential\n",
    "from tensorflow.keras.utils import plot_model\n",
    "from tensorflow.keras.layers import Flatten,Dense,MaxPooling2D,Conv2D,Dropout"
   ]
  },
  {
   "cell_type": "code",
   "execution_count": null,
   "metadata": {
    "execution": {
     "iopub.execute_input": "2024-05-19T22:26:24.030244Z",
     "iopub.status.busy": "2024-05-19T22:26:24.029258Z",
     "iopub.status.idle": "2024-05-19T22:26:24.157296Z",
     "shell.execute_reply": "2024-05-19T22:26:24.156354Z",
     "shell.execute_reply.started": "2024-05-19T22:26:24.030209Z"
    }
   },
   "outputs": [],
   "source": [
    "model = Sequential()\n",
    "model.add(Conv2D(64,(3,3),input_shape=(225,225,3),activation='relu'))\n",
    "model.add(MaxPooling2D((2,2)))\n",
    "model.add(Conv2D(128,(3,3),activation='relu'))\n",
    "model.add(MaxPooling2D((2,2)))\n",
    "model.add(Conv2D(256,(3,3),activation='relu'))\n",
    "model.add(MaxPooling2D((2,2)))\n",
    "model.add(Conv2D(512,(3,3),activation='relu'))\n",
    "model.add(MaxPooling2D((2,2)))\n",
    "\n",
    "model.add(Flatten())\n",
    "model.add(Dense(64,activation='relu'))\n",
    "model.add(Dropout(0.5))\n",
    "model.add(Dense(3,activation='softmax'))"
   ]
  },
  {
   "cell_type": "code",
   "execution_count": null,
   "metadata": {
    "execution": {
     "iopub.execute_input": "2024-05-19T22:26:50.394890Z",
     "iopub.status.busy": "2024-05-19T22:26:50.393914Z",
     "iopub.status.idle": "2024-05-19T22:26:50.666911Z",
     "shell.execute_reply": "2024-05-19T22:26:50.666010Z",
     "shell.execute_reply.started": "2024-05-19T22:26:50.394853Z"
    }
   },
   "outputs": [],
   "source": [
    "plot_model(model,show_layer_names=True,show_shapes=True)"
   ]
  },
  {
   "cell_type": "code",
   "execution_count": null,
   "metadata": {
    "execution": {
     "iopub.execute_input": "2024-05-19T22:29:30.082687Z",
     "iopub.status.busy": "2024-05-19T22:29:30.082302Z",
     "iopub.status.idle": "2024-05-19T22:29:30.092811Z",
     "shell.execute_reply": "2024-05-19T22:29:30.091827Z",
     "shell.execute_reply.started": "2024-05-19T22:29:30.082641Z"
    }
   },
   "outputs": [],
   "source": [
    "model.compile(optimizer='adam',loss='categorical_crossentropy',metrics=['accuracy'])"
   ]
  },
  {
   "cell_type": "code",
   "execution_count": null,
   "metadata": {
    "execution": {
     "iopub.execute_input": "2024-05-19T22:29:49.584763Z",
     "iopub.status.busy": "2024-05-19T22:29:49.584046Z",
     "iopub.status.idle": "2024-05-19T22:46:06.124811Z",
     "shell.execute_reply": "2024-05-19T22:46:06.123900Z",
     "shell.execute_reply.started": "2024-05-19T22:29:49.584733Z"
    }
   },
   "outputs": [],
   "source": [
    "from keras.callbacks import EarlyStopping\n",
    "\n",
    "early_stopping = EarlyStopping(monitor='val_loss', patience=3)\n",
    "history = model.fit(train_set, epochs=10, batch_size=16, validation_data=test_set, callbacks=[early_stopping])"
   ]
  },
  {
   "cell_type": "code",
   "execution_count": null,
   "metadata": {
    "execution": {
     "iopub.execute_input": "2024-05-19T22:47:26.745593Z",
     "iopub.status.busy": "2024-05-19T22:47:26.744878Z",
     "iopub.status.idle": "2024-05-19T22:47:27.029897Z",
     "shell.execute_reply": "2024-05-19T22:47:27.028915Z",
     "shell.execute_reply.started": "2024-05-19T22:47:26.745558Z"
    }
   },
   "outputs": [],
   "source": [
    "import matplotlib.pyplot as plt\n",
    "\n",
    "pd.DataFrame(history.history).plot()\n",
    "plt.show()"
   ]
  },
  {
   "cell_type": "code",
   "execution_count": null,
   "metadata": {
    "execution": {
     "iopub.execute_input": "2024-05-19T22:47:37.809505Z",
     "iopub.status.busy": "2024-05-19T22:47:37.808574Z",
     "iopub.status.idle": "2024-05-19T22:47:47.663785Z",
     "shell.execute_reply": "2024-05-19T22:47:47.662900Z",
     "shell.execute_reply.started": "2024-05-19T22:47:37.809471Z"
    }
   },
   "outputs": [],
   "source": [
    "model.evaluate(val_set)"
   ]
  },
  {
   "cell_type": "code",
   "execution_count": null,
   "metadata": {
    "execution": {
     "iopub.execute_input": "2024-05-19T22:47:53.595271Z",
     "iopub.status.busy": "2024-05-19T22:47:53.594517Z",
     "iopub.status.idle": "2024-05-19T22:48:05.483238Z",
     "shell.execute_reply": "2024-05-19T22:48:05.482309Z",
     "shell.execute_reply.started": "2024-05-19T22:47:53.595238Z"
    }
   },
   "outputs": [],
   "source": [
    "model.evaluate(test_set)"
   ]
  }
 ],
 "metadata": {
  "kaggle": {
   "accelerator": "none",
   "dataSources": [
    {
     "datasetId": 1447507,
     "sourceId": 2394131,
     "sourceType": "datasetVersion"
    }
   ],
   "dockerImageVersionId": 30698,
   "isGpuEnabled": false,
   "isInternetEnabled": false,
   "language": "python",
   "sourceType": "notebook"
  },
  "kernelspec": {
   "display_name": "Python 3 (ipykernel)",
   "language": "python",
   "name": "python3"
  },
  "language_info": {
   "codemirror_mode": {
    "name": "ipython",
    "version": 3
   },
   "file_extension": ".py",
   "mimetype": "text/x-python",
   "name": "python",
   "nbconvert_exporter": "python",
   "pygments_lexer": "ipython3",
   "version": "3.11.4"
  }
 },
 "nbformat": 4,
 "nbformat_minor": 4
}
